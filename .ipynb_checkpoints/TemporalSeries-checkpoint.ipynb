{
 "cells": [
  {
   "cell_type": "code",
   "execution_count": 3,
   "id": "954756c8-d9d3-48a5-9494-3948d1b3ce84",
   "metadata": {},
   "outputs": [],
   "source": [
    "import pandas as pd\n",
    "import numpy as np\n",
    "import seaborn as sns\n",
    "from sklearn.metrics import mean_squared_error, r2_score\n",
    "from statsmodels.stats.stattools import jarque_bera\n",
    "import matplotlib.pyplot as plt\n",
    "%matplotlib inline\n",
    "\n",
    "from pmdarima.arima import auto_arima\n",
    "from pmdarima import arima\n",
    "from pmdarima.utils import tsdisplay, autocorr_plot, decomposed_plot, plot_acf, plot_pacf\n",
    "from matplotlib.pyplot import rcParams\n",
    "rcParams['figure.figsize']=15,6\n",
    "from pmdarima.arima import ADFTest\n",
    "from statsmodels.tsa.statespace.sarimax import SARIMAX"
   ]
  },
  {
   "cell_type": "code",
   "execution_count": 5,
   "id": "c10cdc22-fe14-4b07-87fc-d3fe93e5dc2f",
   "metadata": {},
   "outputs": [],
   "source": [
    "# Importando os dados\n",
    "from pymongo import MongoClient #Conexão com MongoDB\n",
    "import pprint #Mostrar informações dos dados do banco de dados\n",
    "from pymongo import timeout\n",
    "client = MongoClient('localhost', 27017)\n",
    "#Nome do banco de dados\n",
    "nome_bd = 'Sales-Forecasting_' \n",
    "db = client[nome_bd]\n",
    "\n",
    "train_collections = []\n"
   ]
  },
  {
   "cell_type": "code",
   "execution_count": 6,
   "id": "b1ac9421-45f7-4324-9da5-faa5599e6892",
   "metadata": {},
   "outputs": [],
   "source": [
    "train_collections = []\n",
    "\n",
    "for train_id in range(1,1115):\n",
    "    \n",
    "    stores = db.get_collection(f\"Train-{train_id}\")\n",
    "    train_collections.append(stores)\n"
   ]
  },
  {
   "cell_type": "code",
   "execution_count": 73,
   "id": "05e7f4e9-7721-4a7f-92f2-25fe7e19ed86",
   "metadata": {},
   "outputs": [],
   "source": [
    "def collections_request(collection) :\n",
    "\n",
    "\n",
    "    cursor = collection.find({})\n",
    "\n",
    "    cursor = list(cursor) \n",
    "    df = pd.DataFrame(cursor).drop(\"_id\",axis=1).sort_values(by='Date')\n",
    "    df['StateHoliday'] = df['StateHoliday'].map({'a':1 , 'b':2 , 'c':3 , 0: 0, '0':0})\n",
    "\n",
    "    return df.reset_index().drop(\"index\",axis=1,)\n"
   ]
  },
  {
   "cell_type": "code",
   "execution_count": null,
   "id": "16691646-51b0-49ad-a0a0-b4c2cb41b1d7",
   "metadata": {},
   "outputs": [],
   "source": [
    "def concat_dfs(df_list):\n",
    "    "
   ]
  },
  {
   "cell_type": "code",
   "execution_count": 119,
   "id": "3c2a6418-0f9d-46b6-953a-0b3a63516905",
   "metadata": {},
   "outputs": [],
   "source": [
    "# Retorno -> Um dataframe ordenado pela data e com os índices de 0 - 941. Referente a uma loja. (Ver qual modelo ficar melhor, com uma variável ou com várias).\n",
    "id_loja = 0\n",
    "data = collections_request(train_collections[id_loja])"
   ]
  },
  {
   "cell_type": "code",
   "execution_count": null,
   "id": "1e66765e-4ca5-4de5-8b4c-133875c43ab2",
   "metadata": {},
   "outputs": [],
   "source": []
  }
 ],
 "metadata": {
  "kernelspec": {
   "display_name": "Python 3 (ipykernel)",
   "language": "python",
   "name": "python3"
  },
  "language_info": {
   "codemirror_mode": {
    "name": "ipython",
    "version": 3
   },
   "file_extension": ".py",
   "mimetype": "text/x-python",
   "name": "python",
   "nbconvert_exporter": "python",
   "pygments_lexer": "ipython3",
   "version": "3.10.12"
  }
 },
 "nbformat": 4,
 "nbformat_minor": 5
}
